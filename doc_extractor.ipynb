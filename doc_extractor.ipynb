{
 "cells": [
  {
   "cell_type": "code",
   "execution_count": 21,
   "id": "0b70b4b9",
   "metadata": {},
   "outputs": [
    {
     "name": "stdout",
     "output_type": "stream",
     "text": [
      "Requirement already satisfied: PyMuPDF in c:\\users\\cosmo\\appdata\\local\\packages\\pythonsoftwarefoundation.python.3.11_qbz5n2kfra8p0\\localcache\\local-packages\\python311\\site-packages (1.26.0)Note: you may need to restart the kernel to use updated packages.\n",
      "\n",
      "Requirement already satisfied: python-docx in c:\\users\\cosmo\\appdata\\local\\packages\\pythonsoftwarefoundation.python.3.11_qbz5n2kfra8p0\\localcache\\local-packages\\python311\\site-packages (1.1.2)\n",
      "Requirement already satisfied: Pillow in c:\\users\\cosmo\\appdata\\local\\packages\\pythonsoftwarefoundation.python.3.11_qbz5n2kfra8p0\\localcache\\local-packages\\python311\\site-packages (11.0.0)\n",
      "Requirement already satisfied: pytesseract in c:\\users\\cosmo\\appdata\\local\\packages\\pythonsoftwarefoundation.python.3.11_qbz5n2kfra8p0\\localcache\\local-packages\\python311\\site-packages (0.3.13)\n",
      "Requirement already satisfied: lxml>=3.1.0 in c:\\users\\cosmo\\appdata\\local\\packages\\pythonsoftwarefoundation.python.3.11_qbz5n2kfra8p0\\localcache\\local-packages\\python311\\site-packages (from python-docx) (5.4.0)\n",
      "Requirement already satisfied: typing-extensions>=4.9.0 in c:\\users\\cosmo\\appdata\\local\\packages\\pythonsoftwarefoundation.python.3.11_qbz5n2kfra8p0\\localcache\\local-packages\\python311\\site-packages (from python-docx) (4.12.2)\n",
      "Requirement already satisfied: packaging>=21.3 in c:\\users\\cosmo\\appdata\\local\\packages\\pythonsoftwarefoundation.python.3.11_qbz5n2kfra8p0\\localcache\\local-packages\\python311\\site-packages (from pytesseract) (24.2)\n"
     ]
    },
    {
     "name": "stderr",
     "output_type": "stream",
     "text": [
      "\n",
      "[notice] A new release of pip is available: 24.3.1 -> 25.1.1\n",
      "[notice] To update, run: C:\\Users\\COSMO\\AppData\\Local\\Microsoft\\WindowsApps\\PythonSoftwareFoundation.Python.3.11_qbz5n2kfra8p0\\python.exe -m pip install --upgrade pip\n"
     ]
    }
   ],
   "source": [
    "\n",
    "pip install PyMuPDF python-docx Pillow pytesseract\n"
   ]
  },
  {
   "cell_type": "code",
   "execution_count": 13,
   "id": "d649c30a",
   "metadata": {},
   "outputs": [],
   "source": [
    "import mimetypes\n",
    "from pathlib import Path\n",
    "import pytesseract"
   ]
  },
  {
   "cell_type": "code",
   "execution_count": 14,
   "id": "c7a18a0f",
   "metadata": {},
   "outputs": [],
   "source": [
    "# Required libraries for extraction\n",
    "import fitz  # PyMuPDF for PDFs\n",
    "from docx import Document  # for DOCX\n",
    "from PIL import Image\n",
    "import pytesseract"
   ]
  },
  {
   "cell_type": "code",
   "execution_count": 15,
   "id": "00e60f29",
   "metadata": {},
   "outputs": [],
   "source": [
    "# 1. Read files from folder and extract file type and name\n",
    "\n",
    "def get_mime_type(file_path):\n",
    "    return mimetypes.guess_type(file_path)[0] or 'unknown/unknown'\n",
    "\n",
    "def list_files(folder_path):\n",
    "    folder = Path(folder_path)\n",
    "    files_info = []\n",
    "    for file_path in folder.iterdir():\n",
    "        if file_path.is_file():\n",
    "            mime_type = get_mime_type(file_path)\n",
    "            files_info.append({\n",
    "                \"path\": file_path,\n",
    "                \"name\": file_path.name,\n",
    "                \"type\": mime_type\n",
    "            })\n",
    "    return files_info\n"
   ]
  },
  {
   "cell_type": "code",
   "execution_count": 16,
   "id": "df9e0da1",
   "metadata": {},
   "outputs": [],
   "source": [
    "# 2. Extract complete text from all types of file\n",
    "\n",
    "def extract_text(file_path, file_type):\n",
    "    try:\n",
    "        if file_type.startswith('text/'):\n",
    "            # For .txt and similar\n",
    "            with open(file_path, 'r', encoding='utf-8') as f:\n",
    "                return f.read()\n",
    "\n",
    "        elif file_type == 'application/pdf':\n",
    "            # Use PyMuPDF to extract PDF text\n",
    "            doc = fitz.open(file_path)\n",
    "            text = \"\"\n",
    "            for page in doc:\n",
    "                text += page.get_text()\n",
    "            return text.strip()\n",
    "\n",
    "        elif file_type == 'application/vnd.openxmlformats-officedocument.wordprocessingml.document':\n",
    "            # Extract DOCX text\n",
    "            doc = Document(file_path)\n",
    "            text = []\n",
    "            for para in doc.paragraphs:\n",
    "                text.append(para.text)\n",
    "            return '\\n'.join(text).strip()\n",
    "\n",
    "        elif file_type.startswith('image/'):\n",
    "            # Use OCR to extract text from images\n",
    "            img = Image.open(file_path)\n",
    "            text = pytesseract.image_to_string(img)\n",
    "            return text.strip()\n",
    "\n",
    "        else:\n",
    "            return f\"Unsupported file type: {file_type}\"\n",
    "\n",
    "    except Exception as e:\n",
    "        return f\"Error extracting text: {e}\"\n"
   ]
  },
  {
   "cell_type": "code",
   "execution_count": 17,
   "id": "9acd1eeb",
   "metadata": {},
   "outputs": [],
   "source": [
    "# 3. Save the extracted text in .txt file\n",
    "\n",
    "def save_text(filename, text, output_folder='extracted_txt'):\n",
    "    output_folder = Path(output_folder)\n",
    "    output_folder.mkdir(exist_ok=True)\n",
    "    # Save with the same filename but .txt extension\n",
    "    output_path = output_folder / (filename + \".txt\")\n",
    "    with open(output_path, 'w', encoding='utf-8') as f:\n",
    "        f.write(text)\n",
    "\n",
    "    return output_path"
   ]
  },
  {
   "cell_type": "code",
   "execution_count": 20,
   "id": "58c3ba7c",
   "metadata": {},
   "outputs": [
    {
     "name": "stdout",
     "output_type": "stream",
     "text": [
      "Processing: Fakhar_Imam_resume.pdf (application/pdf)\n",
      "Processing: Screenshot 2024-12-19 203019.png (image/png)\n",
      "Extraction complete. Text files saved in 'extracted_txt' folder.\n"
     ]
    }
   ],
   "source": [
    "# === Main workflow ===\n",
    "\n",
    "def main(input_folder):\n",
    "    files = list_files(input_folder)\n",
    "    for file_info in files:\n",
    "        print(f\"Processing: {file_info['name']} ({file_info['type']})\")\n",
    "        text = extract_text(file_info['path'], file_info['type'])\n",
    "        save_text(file_info['name'], text)\n",
    "    print(\"Extraction complete. Text files saved in 'extracted_txt' folder.\")\n",
    "\n",
    "\n",
    "if __name__ == \"__main__\":\n",
    "    input_folder = \"./Docs\"  # path of folder containing files to extract\n",
    "    main(input_folder)"
   ]
  },
  {
   "cell_type": "code",
   "execution_count": null,
   "id": "8ade2c00",
   "metadata": {},
   "outputs": [],
   "source": []
  }
 ],
 "metadata": {
  "kernelspec": {
   "display_name": "Python 3",
   "language": "python",
   "name": "python3"
  },
  "language_info": {
   "codemirror_mode": {
    "name": "ipython",
    "version": 3
   },
   "file_extension": ".py",
   "mimetype": "text/x-python",
   "name": "python",
   "nbconvert_exporter": "python",
   "pygments_lexer": "ipython3",
   "version": "3.11.9"
  }
 },
 "nbformat": 4,
 "nbformat_minor": 5
}
